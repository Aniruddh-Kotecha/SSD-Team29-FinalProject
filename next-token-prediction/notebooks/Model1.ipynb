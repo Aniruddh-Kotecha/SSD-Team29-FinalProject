{
 "cells": [
  {
   "cell_type": "code",
   "execution_count": null,
   "id": "aea6401a-6bfe-45f9-87cf-3476c8c629b7",
   "metadata": {},
   "outputs": [],
   "source": [
    "def clean_code(file_path):\n",
    "    cleaned_code = []\n",
    "    with open(file_path, 'r') as file:\n",
    "        for line in file:\n",
    "            stripped_line = line.strip()\n",
    "            if stripped_line and not stripped_line.startswith(\"#\"):\n",
    "                cleaned_code.append(stripped_line)\n",
    "    return '\\n'.join(cleaned_code)\n",
    "\n",
    "file_path = 'Python_code_data.txt' \n",
    "cleaned_code = clean_code(file_path)\n",
    "with open('cleaned_code.txt', 'w') as f:\n",
    "    f.write(cleaned_code)\n",
    "print(\"Cleaned code saved to 'cleaned_code.txt'\")"
   ]
  },
  {
   "cell_type": "code",
   "execution_count": 4,
   "id": "e299739a-f21f-4f01-997b-51d5b284f0ba",
   "metadata": {},
   "outputs": [
    {
     "name": "stderr",
     "output_type": "stream",
     "text": [
      "[nltk_data] Downloading package punkt to /home/aniruddh/nltk_data...\n",
      "[nltk_data]   Package punkt is already up-to-date!\n"
     ]
    },
    {
     "name": "stdout",
     "output_type": "stream",
     "text": [
      "First 20 tokens: ['num1', '=', '1.5', 'num2', '=', '6.3', 'sum', '=', 'num1', '+', 'num2', 'print', '(', \"f'Sum\", ':', '{', 'sum', '}', \"'\", ')']\n",
      "Total tokens: 209425\n"
     ]
    }
   ],
   "source": [
    "from nltk.tokenize import word_tokenize\n",
    "import nltk\n",
    "nltk.download('punkt') \n",
    "\n",
    "def nltk_tokenize_code(code):\n",
    "    return word_tokenize(code)\n",
    "\n",
    "with open('cleaned_code.txt', 'r') as f:\n",
    "    cleaned_code = f.read()\n",
    "tokens = nltk_tokenize_code(cleaned_code)\n",
    "print(\"First 20 tokens:\", tokens[:20])\n",
    "print(\"Total tokens:\", len(tokens))"
   ]
  },
  {
   "cell_type": "code",
   "execution_count": 5,
   "id": "0ba7ce23-04c0-4ffc-841b-7f7d05841dbf",
   "metadata": {},
   "outputs": [
    {
     "name": "stdout",
     "output_type": "stream",
     "text": [
      "Vocabulary size: 8238\n",
      "First input sequence: [5901, 1574, 1069, 5905, 1574, 1453, 7407, 1574, 5901, 727]\n",
      "First output token index: 5905\n",
      "Training samples: 167532, Validation samples: 41883\n"
     ]
    }
   ],
   "source": [
    "import numpy as np\n",
    "from sklearn.model_selection import train_test_split\n",
    "import pickle\n",
    "\n",
    "def create_sequences(tokens, seq_length=10):\n",
    "    inputs, outputs = [], []\n",
    "    for i in range(len(tokens) - seq_length):\n",
    "        inputs.append(tokens[i:i+seq_length])\n",
    "        outputs.append(tokens[i+seq_length])\n",
    "    return inputs, outputs\n",
    "\n",
    "seq_length = 10\n",
    "inputs, outputs = create_sequences(tokens, seq_length)\n",
    "\n",
    "vocab = sorted(set(tokens))\n",
    "print(f\"Vocabulary size: {len(vocab)}\")\n",
    "\n",
    "token_to_idx = {token: idx for idx, token in enumerate(vocab)}\n",
    "    \n",
    "idx_to_token = {idx: token for token, idx in token_to_idx.items()}\n",
    "\n",
    "inputs = [[token_to_idx[token] for token in sequence] for sequence in inputs]\n",
    "outputs = [token_to_idx[token] for token in outputs]\n",
    "\n",
    "print(f\"First input sequence: {inputs[0]}\")\n",
    "print(f\"First output token index: {outputs[0]}\")\n",
    "\n",
    "X_train, X_val, y_train, y_val = train_test_split(inputs, outputs, test_size=0.2, random_state=42)\n",
    "\n",
    "print(f\"Training samples: {len(X_train)}, Validation samples: {len(X_val)}\")\n"
   ]
  },
  {
   "cell_type": "code",
   "execution_count": 6,
   "id": "d597488c-6efc-4a2b-92d7-c16d6aad3758",
   "metadata": {},
   "outputs": [
    {
     "name": "stderr",
     "output_type": "stream",
     "text": [
      "2024-11-30 04:48:41.292092: E external/local_xla/xla/stream_executor/cuda/cuda_fft.cc:477] Unable to register cuFFT factory: Attempting to register factory for plugin cuFFT when one has already been registered\n",
      "WARNING: All log messages before absl::InitializeLog() is called are written to STDERR\n",
      "E0000 00:00:1732922321.307917   86686 cuda_dnn.cc:8310] Unable to register cuDNN factory: Attempting to register factory for plugin cuDNN when one has already been registered\n",
      "E0000 00:00:1732922321.312824   86686 cuda_blas.cc:1418] Unable to register cuBLAS factory: Attempting to register factory for plugin cuBLAS when one has already been registered\n",
      "2024-11-30 04:48:41.329634: I tensorflow/core/platform/cpu_feature_guard.cc:210] This TensorFlow binary is optimized to use available CPU instructions in performance-critical operations.\n",
      "To enable the following instructions: AVX2 FMA, in other operations, rebuild TensorFlow with the appropriate compiler flags.\n",
      "I0000 00:00:1732922322.838348   86686 gpu_device.cc:2022] Created device /job:localhost/replica:0/task:0/device:GPU:0 with 752 MB memory:  -> device: 0, name: NVIDIA GeForce GTX 1650 Ti, pci bus id: 0000:01:00.0, compute capability: 7.5\n"
     ]
    },
    {
     "name": "stdout",
     "output_type": "stream",
     "text": [
      "Epoch 1/10\n"
     ]
    },
    {
     "name": "stderr",
     "output_type": "stream",
     "text": [
      "I0000 00:00:1732922324.673764   91918 cuda_dnn.cc:529] Loaded cuDNN version 90300\n"
     ]
    },
    {
     "name": "stdout",
     "output_type": "stream",
     "text": [
      "\u001b[1m2618/2618\u001b[0m \u001b[32m━━━━━━━━━━━━━━━━━━━━\u001b[0m\u001b[37m\u001b[0m \u001b[1m20s\u001b[0m 7ms/step - accuracy: 0.1302 - loss: 5.3069 - val_accuracy: 0.3133 - val_loss: 4.0703\n",
      "Epoch 2/10\n",
      "\u001b[1m2618/2618\u001b[0m \u001b[32m━━━━━━━━━━━━━━━━━━━━\u001b[0m\u001b[37m\u001b[0m \u001b[1m18s\u001b[0m 7ms/step - accuracy: 0.3477 - loss: 3.7854 - val_accuracy: 0.4049 - val_loss: 3.5033\n",
      "Epoch 3/10\n",
      "\u001b[1m2618/2618\u001b[0m \u001b[32m━━━━━━━━━━━━━━━━━━━━\u001b[0m\u001b[37m\u001b[0m \u001b[1m18s\u001b[0m 7ms/step - accuracy: 0.4317 - loss: 3.1759 - val_accuracy: 0.4464 - val_loss: 3.2308\n",
      "Epoch 4/10\n",
      "\u001b[1m2618/2618\u001b[0m \u001b[32m━━━━━━━━━━━━━━━━━━━━\u001b[0m\u001b[37m\u001b[0m \u001b[1m18s\u001b[0m 7ms/step - accuracy: 0.4760 - loss: 2.8265 - val_accuracy: 0.4678 - val_loss: 3.0689\n",
      "Epoch 5/10\n",
      "\u001b[1m2618/2618\u001b[0m \u001b[32m━━━━━━━━━━━━━━━━━━━━\u001b[0m\u001b[37m\u001b[0m \u001b[1m18s\u001b[0m 7ms/step - accuracy: 0.5053 - loss: 2.5775 - val_accuracy: 0.4922 - val_loss: 2.9510\n",
      "Epoch 6/10\n",
      "\u001b[1m2618/2618\u001b[0m \u001b[32m━━━━━━━━━━━━━━━━━━━━\u001b[0m\u001b[37m\u001b[0m \u001b[1m18s\u001b[0m 7ms/step - accuracy: 0.5337 - loss: 2.3762 - val_accuracy: 0.5037 - val_loss: 2.8765\n",
      "Epoch 7/10\n",
      "\u001b[1m2618/2618\u001b[0m \u001b[32m━━━━━━━━━━━━━━━━━━━━\u001b[0m\u001b[37m\u001b[0m \u001b[1m18s\u001b[0m 7ms/step - accuracy: 0.5607 - loss: 2.1823 - val_accuracy: 0.5191 - val_loss: 2.8074\n",
      "Epoch 8/10\n",
      "\u001b[1m2618/2618\u001b[0m \u001b[32m━━━━━━━━━━━━━━━━━━━━\u001b[0m\u001b[37m\u001b[0m \u001b[1m18s\u001b[0m 7ms/step - accuracy: 0.5836 - loss: 2.0369 - val_accuracy: 0.5307 - val_loss: 2.7524\n",
      "Epoch 9/10\n",
      "\u001b[1m2618/2618\u001b[0m \u001b[32m━━━━━━━━━━━━━━━━━━━━\u001b[0m\u001b[37m\u001b[0m \u001b[1m18s\u001b[0m 7ms/step - accuracy: 0.6052 - loss: 1.8977 - val_accuracy: 0.5414 - val_loss: 2.7071\n",
      "Epoch 10/10\n",
      "\u001b[1m2618/2618\u001b[0m \u001b[32m━━━━━━━━━━━━━━━━━━━━\u001b[0m\u001b[37m\u001b[0m \u001b[1m17s\u001b[0m 7ms/step - accuracy: 0.6234 - loss: 1.7929 - val_accuracy: 0.5536 - val_loss: 2.6695\n"
     ]
    },
    {
     "data": {
      "text/html": [
       "<pre style=\"white-space:pre;overflow-x:auto;line-height:normal;font-family:Menlo,'DejaVu Sans Mono',consolas,'Courier New',monospace\"><span style=\"font-weight: bold\">Model: \"sequential\"</span>\n",
       "</pre>\n"
      ],
      "text/plain": [
       "\u001b[1mModel: \"sequential\"\u001b[0m\n"
      ]
     },
     "metadata": {},
     "output_type": "display_data"
    },
    {
     "data": {
      "text/html": [
       "<pre style=\"white-space:pre;overflow-x:auto;line-height:normal;font-family:Menlo,'DejaVu Sans Mono',consolas,'Courier New',monospace\">┏━━━━━━━━━━━━━━━━━━━━━━━━━━━━━━━━━┳━━━━━━━━━━━━━━━━━━━━━━━━┳━━━━━━━━━━━━━━━┓\n",
       "┃<span style=\"font-weight: bold\"> Layer (type)                    </span>┃<span style=\"font-weight: bold\"> Output Shape           </span>┃<span style=\"font-weight: bold\">       Param # </span>┃\n",
       "┡━━━━━━━━━━━━━━━━━━━━━━━━━━━━━━━━━╇━━━━━━━━━━━━━━━━━━━━━━━━╇━━━━━━━━━━━━━━━┩\n",
       "│ embedding (<span style=\"color: #0087ff; text-decoration-color: #0087ff\">Embedding</span>)           │ (<span style=\"color: #00d7ff; text-decoration-color: #00d7ff\">None</span>, <span style=\"color: #00af00; text-decoration-color: #00af00\">10</span>, <span style=\"color: #00af00; text-decoration-color: #00af00\">64</span>)         │       <span style=\"color: #00af00; text-decoration-color: #00af00\">527,232</span> │\n",
       "├─────────────────────────────────┼────────────────────────┼───────────────┤\n",
       "│ lstm (<span style=\"color: #0087ff; text-decoration-color: #0087ff\">LSTM</span>)                     │ (<span style=\"color: #00d7ff; text-decoration-color: #00d7ff\">None</span>, <span style=\"color: #00af00; text-decoration-color: #00af00\">64</span>)             │        <span style=\"color: #00af00; text-decoration-color: #00af00\">33,024</span> │\n",
       "├─────────────────────────────────┼────────────────────────┼───────────────┤\n",
       "│ dense (<span style=\"color: #0087ff; text-decoration-color: #0087ff\">Dense</span>)                   │ (<span style=\"color: #00d7ff; text-decoration-color: #00d7ff\">None</span>, <span style=\"color: #00af00; text-decoration-color: #00af00\">8238</span>)           │       <span style=\"color: #00af00; text-decoration-color: #00af00\">535,470</span> │\n",
       "└─────────────────────────────────┴────────────────────────┴───────────────┘\n",
       "</pre>\n"
      ],
      "text/plain": [
       "┏━━━━━━━━━━━━━━━━━━━━━━━━━━━━━━━━━┳━━━━━━━━━━━━━━━━━━━━━━━━┳━━━━━━━━━━━━━━━┓\n",
       "┃\u001b[1m \u001b[0m\u001b[1mLayer (type)                   \u001b[0m\u001b[1m \u001b[0m┃\u001b[1m \u001b[0m\u001b[1mOutput Shape          \u001b[0m\u001b[1m \u001b[0m┃\u001b[1m \u001b[0m\u001b[1m      Param #\u001b[0m\u001b[1m \u001b[0m┃\n",
       "┡━━━━━━━━━━━━━━━━━━━━━━━━━━━━━━━━━╇━━━━━━━━━━━━━━━━━━━━━━━━╇━━━━━━━━━━━━━━━┩\n",
       "│ embedding (\u001b[38;5;33mEmbedding\u001b[0m)           │ (\u001b[38;5;45mNone\u001b[0m, \u001b[38;5;34m10\u001b[0m, \u001b[38;5;34m64\u001b[0m)         │       \u001b[38;5;34m527,232\u001b[0m │\n",
       "├─────────────────────────────────┼────────────────────────┼───────────────┤\n",
       "│ lstm (\u001b[38;5;33mLSTM\u001b[0m)                     │ (\u001b[38;5;45mNone\u001b[0m, \u001b[38;5;34m64\u001b[0m)             │        \u001b[38;5;34m33,024\u001b[0m │\n",
       "├─────────────────────────────────┼────────────────────────┼───────────────┤\n",
       "│ dense (\u001b[38;5;33mDense\u001b[0m)                   │ (\u001b[38;5;45mNone\u001b[0m, \u001b[38;5;34m8238\u001b[0m)           │       \u001b[38;5;34m535,470\u001b[0m │\n",
       "└─────────────────────────────────┴────────────────────────┴───────────────┘\n"
      ]
     },
     "metadata": {},
     "output_type": "display_data"
    },
    {
     "data": {
      "text/html": [
       "<pre style=\"white-space:pre;overflow-x:auto;line-height:normal;font-family:Menlo,'DejaVu Sans Mono',consolas,'Courier New',monospace\"><span style=\"font-weight: bold\"> Total params: </span><span style=\"color: #00af00; text-decoration-color: #00af00\">3,287,180</span> (12.54 MB)\n",
       "</pre>\n"
      ],
      "text/plain": [
       "\u001b[1m Total params: \u001b[0m\u001b[38;5;34m3,287,180\u001b[0m (12.54 MB)\n"
      ]
     },
     "metadata": {},
     "output_type": "display_data"
    },
    {
     "data": {
      "text/html": [
       "<pre style=\"white-space:pre;overflow-x:auto;line-height:normal;font-family:Menlo,'DejaVu Sans Mono',consolas,'Courier New',monospace\"><span style=\"font-weight: bold\"> Trainable params: </span><span style=\"color: #00af00; text-decoration-color: #00af00\">1,095,726</span> (4.18 MB)\n",
       "</pre>\n"
      ],
      "text/plain": [
       "\u001b[1m Trainable params: \u001b[0m\u001b[38;5;34m1,095,726\u001b[0m (4.18 MB)\n"
      ]
     },
     "metadata": {},
     "output_type": "display_data"
    },
    {
     "data": {
      "text/html": [
       "<pre style=\"white-space:pre;overflow-x:auto;line-height:normal;font-family:Menlo,'DejaVu Sans Mono',consolas,'Courier New',monospace\"><span style=\"font-weight: bold\"> Non-trainable params: </span><span style=\"color: #00af00; text-decoration-color: #00af00\">0</span> (0.00 B)\n",
       "</pre>\n"
      ],
      "text/plain": [
       "\u001b[1m Non-trainable params: \u001b[0m\u001b[38;5;34m0\u001b[0m (0.00 B)\n"
      ]
     },
     "metadata": {},
     "output_type": "display_data"
    },
    {
     "data": {
      "text/html": [
       "<pre style=\"white-space:pre;overflow-x:auto;line-height:normal;font-family:Menlo,'DejaVu Sans Mono',consolas,'Courier New',monospace\"><span style=\"font-weight: bold\"> Optimizer params: </span><span style=\"color: #00af00; text-decoration-color: #00af00\">2,191,454</span> (8.36 MB)\n",
       "</pre>\n"
      ],
      "text/plain": [
       "\u001b[1m Optimizer params: \u001b[0m\u001b[38;5;34m2,191,454\u001b[0m (8.36 MB)\n"
      ]
     },
     "metadata": {},
     "output_type": "display_data"
    }
   ],
   "source": [
    "import tensorflow as tf\n",
    "from tensorflow.keras.models import Sequential\n",
    "from tensorflow.keras.layers import Embedding, LSTM, Dense\n",
    "\n",
    "vocab_size = len(vocab)\n",
    "embedding_dim = 64\n",
    "lstm_units = 128\n",
    "\n",
    "model = Sequential([\n",
    "    Embedding(input_dim=vocab_size, output_dim=64),\n",
    "    LSTM(64),\n",
    "    Dense(vocab_size, activation='softmax')\n",
    "])\n",
    "\n",
    "model.compile(optimizer='adam', loss='sparse_categorical_crossentropy', metrics=['accuracy'])\n",
    "\n",
    "X_train = np.array(X_train)\n",
    "X_val = np.array(X_val)\n",
    "y_train = np.array(y_train)\n",
    "y_val = np.array(y_val)\n",
    "\n",
    "history = model.fit(X_train, y_train, validation_data=(X_val, y_val), epochs=10, batch_size=64)\n",
    "model.summary()"
   ]
  },
  {
   "cell_type": "code",
   "execution_count": 7,
   "id": "b8bca92c-3cfc-4f53-b200-a5d4d2f6f781",
   "metadata": {},
   "outputs": [],
   "source": [
    "import pickle\n",
    "with open(\"vocab_small\", \"wb\") as file:\n",
    "    pickle.dump(token_to_idx, file)\n",
    "    \n",
    "import pickle\n",
    "with open(\"t_to_i.pkl\", \"wb\") as file:\n",
    "    pickle.dump(token_to_idx, file)\n",
    "    \n",
    "with open(\"i_to_t.pkl\", \"wb\") as file:\n",
    "    pickle.dump(idx_to_token, file)"
   ]
  },
  {
   "cell_type": "code",
   "execution_count": 8,
   "id": "101314d3-b824-4291-9770-7f64715d8fce",
   "metadata": {},
   "outputs": [
    {
     "data": {
      "image/png": "[encoded data removed]",
      "text/plain": [
       "<Figure size 1200x600 with 2 Axes>"
      ]
     },
     "metadata": {},
     "output_type": "display_data"
    }
   ],
   "source": [
    "import matplotlib.pyplot as plt\n",
    "\n",
    "def plot_training_history(history):\n",
    "    plt.figure(figsize=(12, 6))\n",
    "\n",
    "    plt.subplot(1, 2, 1)\n",
    "    plt.plot(history.history['accuracy'], label='Training Accuracy')\n",
    "    plt.plot(history.history['val_accuracy'], label='Validation Accuracy')\n",
    "    plt.title('Accuracy')\n",
    "    plt.legend()\n",
    "\n",
    "    plt.subplot(1, 2, 2)\n",
    "    plt.plot(history.history['loss'], label='Training Loss')\n",
    "    plt.plot(history.history['val_loss'], label='Validation Loss')\n",
    "    plt.title('Loss')\n",
    "    plt.legend()\n",
    "\n",
    "    plt.show()\n",
    "\n",
    "plot_training_history(history)\n"
   ]
  },
  {
   "cell_type": "code",
   "execution_count": 9,
   "id": "8c110e09-f8ca-421c-919f-e6c4b6e0b066",
   "metadata": {},
   "outputs": [
    {
     "name": "stdout",
     "output_type": "stream",
     "text": [
      "Input: num1 = 1.5 num2 = 6.3 sum = num1 +\n",
      "Predicted next token: num2\n"
     ]
    }
   ],
   "source": [
    "def predict_next_token(input_seq, model, token_to_idx, idx_to_token):\n",
    "    input_indices = [token_to_idx[token] for token in input_seq]\n",
    "    input_indices = np.array(input_indices).reshape(1, -1)\n",
    "\n",
    "    prediction = model.predict(input_indices, verbose=0)\n",
    "    next_token_idx = np.argmax(prediction)\n",
    "    return idx_to_token[next_token_idx]\n",
    "\n",
    "input_seq = tokens[:seq_length]  \n",
    "next_token = predict_next_token(input_seq, model, token_to_idx, idx_to_token)\n",
    "print(f\"Input: {' '.join(input_seq)}\")\n",
    "print(f\"Predicted next token: {next_token}\")"
   ]
  },
  {
   "cell_type": "code",
   "execution_count": 10,
   "id": "389951f5-8504-4cea-a366-175d8fc94275",
   "metadata": {},
   "outputs": [
    {
     "name": "stdout",
     "output_type": "stream",
     "text": [
      "Input: def sum ( a , b\n",
      "Predicted next token: ,\n"
     ]
    }
   ],
   "source": [
    "import re\n",
    "\n",
    "def tokenize_input(code, vocab):\n",
    "    tokens = re.findall(r'\\b\\w+\\b|[^\\s\\w]', code)\n",
    "    return [token for token in tokens if token in vocab]\n",
    "\n",
    "input = \"def sum(a,b\" \n",
    "input_seq = tokenize_input(input, vocab)\n",
    "next_token = predict_next_token(input_seq, model, token_to_idx, idx_to_token)\n",
    "print(f\"Input: {' '.join(input_seq)}\")\n",
    "print(f\"Predicted next token: {next_token}\")"
   ]
  },
  {
   "cell_type": "code",
   "execution_count": 11,
   "id": "f8bd1090-b8c4-436d-9b74-8cd9849b9b1a",
   "metadata": {},
   "outputs": [
    {
     "name": "stdout",
     "output_type": "stream",
     "text": [
      "Input: lst = [ 1 , 2 ] lst . append\n",
      "Predicted next token: (\n"
     ]
    }
   ],
   "source": [
    "input = \"\"\"\n",
    "lst = [1,2]\n",
    "lst.append\n",
    "\"\"\" \n",
    "input_seq = tokenize_input(input, vocab)\n",
    "next_token = predict_next_token(input_seq, model, token_to_idx, idx_to_token)\n",
    "print(f\"Input: {' '.join(input_seq)}\")\n",
    "print(f\"Predicted next token: {next_token}\")"
   ]
  },
  {
   "cell_type": "code",
   "execution_count": 12,
   "id": "40362f5e-1b79-4e9c-9bd7-eaec0d9ad8d8",
   "metadata": {},
   "outputs": [
    {
     "name": "stdout",
     "output_type": "stream",
     "text": [
      "Input: for i in range ( ) : sum = num1 +\n",
      "Predicted next token: str\n"
     ]
    }
   ],
   "source": [
    "input = \"\"\"\n",
    "for i in range():\n",
    "    sum = num1 +\n",
    "\"\"\" \n",
    "input_seq = tokenize_input(input, vocab)\n",
    "next_token = predict_next_token(input_seq, model, token_to_idx, idx_to_token)\n",
    "print(f\"Input: {' '.join(input_seq)}\")\n",
    "print(f\"Predicted next token: {next_token}\")"
   ]
  },
  {
   "cell_type": "code",
   "execution_count": 13,
   "id": "9bed78e0-170e-4aff-bc87-d40b2edcd855",
   "metadata": {},
   "outputs": [
    {
     "name": "stderr",
     "output_type": "stream",
     "text": [
      "WARNING:absl:You are saving your model as an HDF5 file via `model.save()` or `keras.saving.save_model(model)`. This file format is considered legacy. We recommend using instead the native Keras format, e.g. `model.save('my_model.keras')` or `keras.saving.save_model(model, 'my_model.keras')`. \n"
     ]
    }
   ],
   "source": [
    "model.save('LSTM_small_10e.h5')"
   ]
  }
 ],
 "metadata": {
  "kernelspec": {
   "display_name": "Python 3 (ipykernel)",
   "language": "python",
   "name": "python3"
  },
  "language_info": {
   "codemirror_mode": {
    "name": "ipython",
    "version": 3
   },
   "file_extension": ".py",
   "mimetype": "text/x-python",
   "name": "python",
   "nbconvert_exporter": "python",
   "pygments_lexer": "ipython3",
   "version": "3.12.4"
  }
 },
 "nbformat": 4,
 "nbformat_minor": 5
}
